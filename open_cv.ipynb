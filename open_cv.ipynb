{
 "cells": [
  {
   "cell_type": "code",
   "execution_count": 1,
   "metadata": {},
   "outputs": [],
   "source": [
    "import cv2\n",
    "from PIL import Image\n",
    "import tempfile\n",
    "import numpy as np\n",
    "from textblob import TextBlob\n",
    "from wordcloud import WordCloud, STOPWORDS \n",
    "import matplotlib.pyplot as plt \n",
    "import pandas as pd \n",
    "import smtplib\n",
    "from gtts import gTTS \n",
    "import os"
   ]
  },
  {
   "cell_type": "markdown",
   "metadata": {},
   "source": [
    "# Video capturing Turning on WEB CAM"
   ]
  },
  {
   "cell_type": "code",
   "execution_count": null,
   "metadata": {},
   "outputs": [],
   "source": [
    "cap = cv2.VideoCapture(0)\n",
    "\n",
    "while(True):\n",
    "    # Capture frame-by-frame\n",
    "    ret, frame = cap.read()\n",
    "\n",
    "    # Our operations on the frame come here\n",
    "    #gray = cv2.cvtColor(frame, cv2.COLOR_BGR2GRAY)\n",
    "\n",
    "    # Display the resulting frame\n",
    "    cv2.imshow('frame',frame)\n",
    "    if cv2.waitKey(1) & 0xFF == ord('q'):\n",
    "        break\n",
    "\n",
    "# When everything done, release the capture\n",
    "cap.release()\n",
    "cv2.destroyAllWindows()\n",
    "cv2.waitKey(0)\n",
    "cv2.destroyAllWindows()"
   ]
  },
  {
   "cell_type": "markdown",
   "metadata": {},
   "source": [
    "# Displaying Image"
   ]
  },
  {
   "cell_type": "code",
   "execution_count": null,
   "metadata": {},
   "outputs": [],
   "source": [
    "\n",
    "#img=cv2.imread(\"SUBHASH.jpg\")\n",
    "cv2.imshow(\"example\",frame)\n",
    "cv2.waitKey(0)\n",
    "cv2.destroyAllWindows()"
   ]
  },
  {
   "cell_type": "code",
   "execution_count": 5,
   "metadata": {},
   "outputs": [],
   "source": [
    "import imutils #resize reshaping cropping fedd from camera"
   ]
  },
  {
   "cell_type": "markdown",
   "metadata": {},
   "source": [
    "RESIZING"
   ]
  },
  {
   "cell_type": "code",
   "execution_count": null,
   "metadata": {},
   "outputs": [],
   "source": [
    "image=cv2.imread(\"SUBHASH.jpg\")\n",
    "resizeIMG=imutils.resize(image,width=200)\n",
    "cv2.imwrite(\"resizedIMg.jpg\",resizeIMG)"
   ]
  },
  {
   "cell_type": "code",
   "execution_count": null,
   "metadata": {},
   "outputs": [],
   "source": [
    "cv2.imshow(\"example\",resizeIMG)\n",
    "cv2.waitKey(0)\n",
    "cv2.destroyAllWindows()"
   ]
  },
  {
   "cell_type": "markdown",
   "metadata": {},
   "source": [
    "bluring"
   ]
  },
  {
   "cell_type": "code",
   "execution_count": null,
   "metadata": {},
   "outputs": [],
   "source": [
    "gaussianblur=cv2.GaussianBlur(image,(21,21),0)\n",
    "cv2.imshow(\"example\",gaussianblur)\n",
    "cv2.imwrite(\"blured_image.jpg\",gaussianblur)\n",
    "cv2.waitKey(0)\n",
    "cv2.destroyAllWindows()\n"
   ]
  },
  {
   "cell_type": "markdown",
   "metadata": {},
   "source": [
    "thersholding"
   ]
  },
  {
   "cell_type": "code",
   "execution_count": null,
   "metadata": {},
   "outputs": [],
   "source": [
    "image=cv2.imread(\"SUBHASH.jpg\")\n",
    "gray_image=cv2.cvtColor(image,cv2.COLOR_BGR2GRAY)\n",
    "#thresholdImg=cv2.threshold(gray_image,220,255,cv2.THRESH_BINARY)[1]\n",
    "__,thresholdImg=cv2.threshold(gray_image,220,255,cv2.THRESH_BINARY)\n",
    "cv2.imshow(\"thresholdImg\",thresholdImg)\n",
    "cv2.imwrite(\"thresh.jpg\",thresholdImg)\n",
    "cv2.waitKey(0)\n",
    "cv2.destroyAllWindows()"
   ]
  },
  {
   "cell_type": "markdown",
   "metadata": {},
   "source": [
    "Drawing a Rectangle"
   ]
  },
  {
   "cell_type": "code",
   "execution_count": null,
   "metadata": {},
   "outputs": [],
   "source": [
    "x,y=image.shape()\n",
    "cv2.rectangle(image,(x,y),(x+w,y+h),(0,255,0),2)"
   ]
  },
  {
   "cell_type": "code",
   "execution_count": 2,
   "metadata": {},
   "outputs": [],
   "source": [
    "import time"
   ]
  },
  {
   "cell_type": "code",
   "execution_count": null,
   "metadata": {},
   "outputs": [],
   "source": [
    "cam=cv2.VideoCapture(0)\n",
    "_,img=cam.read()\n",
    "cv2.imwrite(\"cameraImg.jpg\",img)\n",
    "cam.release()\n"
   ]
  },
  {
   "cell_type": "code",
   "execution_count": 3,
   "metadata": {},
   "outputs": [],
   "source": [
    "cam=cv2.VideoCapture(0)\n",
    "time.sleep(1)\n",
    "while True:\n",
    "            _,img=cam.read()\n",
    "            cv2.imshow(\"cameraImg.jpg\",img)\n",
    "            key=cv2.waitKey(1) & 0xFF\n",
    "            if key==ord(\"q\"):\n",
    "                break\n",
    "cam.release()\n",
    "cv2.destroyAllWindows()"
   ]
  },
  {
   "cell_type": "code",
   "execution_count": 10,
   "metadata": {},
   "outputs": [
    {
     "name": "stdout",
     "output_type": "stream",
     "text": [
      "Moving objected detected\n",
      "Moving objected detected\n",
      "Moving objected detected\n",
      "Moving objected detected\n",
      "Moving objected detected\n",
      "Moving objected detected\n",
      "Moving objected detected\n",
      "Moving objected detected\n",
      "Moving objected detected\n",
      "Moving objected detected\n",
      "Moving objected detected\n",
      "Moving objected detected\n",
      "Moving objected detected\n",
      "Moving objected detected\n",
      "Moving objected detected\n",
      "Moving objected detected\n",
      "Moving objected detected\n",
      "Moving objected detected\n",
      "Moving objected detected\n",
      "Moving objected detected\n",
      "Moving objected detected\n",
      "Moving objected detected\n",
      "Moving objected detected\n",
      "Moving objected detected\n",
      "Moving objected detected\n",
      "Moving objected detected\n",
      "Moving objected detected\n",
      "Moving objected detected\n",
      "Moving objected detected\n",
      "Moving objected detected\n",
      "Moving objected detected\n",
      "Moving objected detected\n",
      "Moving objected detected\n",
      "Moving objected detected\n",
      "Moving objected detected\n",
      "Moving objected detected\n",
      "Moving objected detected\n",
      "Moving objected detected\n",
      "Moving objected detected\n",
      "Moving objected detected\n",
      "Moving objected detected\n",
      "Moving objected detected\n",
      "Moving objected detected\n",
      "Moving objected detected\n",
      "Moving objected detected\n",
      "Moving objected detected\n",
      "Moving objected detected\n",
      "Moving objected detected\n",
      "Moving objected detected\n",
      "Moving objected detected\n",
      "Moving objected detected\n",
      "Moving objected detected\n",
      "Moving objected detected\n",
      "Moving objected detected\n",
      "Moving objected detected\n",
      "Moving objected detected\n",
      "Moving objected detected\n",
      "Moving objected detected\n",
      "Moving objected detected\n",
      "Moving objected detected\n",
      "Moving objected detected\n",
      "Moving objected detected\n",
      "Moving objected detected\n",
      "Moving objected detected\n",
      "Moving objected detected\n",
      "Moving objected detected\n",
      "Moving objected detected\n",
      "Moving objected detected\n",
      "Moving objected detected\n",
      "Moving objected detected\n",
      "Moving objected detected\n",
      "Moving objected detected\n",
      "Moving objected detected\n",
      "Moving objected detected\n",
      "Moving objected detected\n",
      "Moving objected detected\n",
      "Moving objected detected\n",
      "Moving objected detected\n",
      "Moving objected detected\n",
      "Moving objected detected\n",
      "Moving objected detected\n",
      "Moving objected detected\n",
      "Moving objected detected\n",
      "Moving objected detected\n",
      "Moving objected detected\n",
      "Moving objected detected\n",
      "Moving objected detected\n",
      "Moving objected detected\n",
      "Moving objected detected\n",
      "Moving objected detected\n",
      "Moving objected detected\n",
      "Moving objected detected\n",
      "Moving objected detected\n",
      "Moving objected detected\n",
      "Moving objected detected\n",
      "Moving objected detected\n",
      "Moving objected detected\n",
      "Moving objected detected\n",
      "Moving objected detected\n",
      "Moving objected detected\n",
      "Moving objected detected\n",
      "Moving objected detected\n",
      "Moving objected detected\n",
      "Moving objected detected\n",
      "Moving objected detected\n",
      "Moving objected detected\n",
      "Moving objected detected\n",
      "Moving objected detected\n",
      "Moving objected detected\n",
      "Moving objected detected\n",
      "Moving objected detected\n",
      "Moving objected detected\n",
      "Moving objected detected\n",
      "Moving objected detected\n",
      "Moving objected detected\n",
      "Moving objected detected\n",
      "Moving objected detected\n",
      "Moving objected detected\n",
      "Moving objected detected\n",
      "Moving objected detected\n",
      "Moving objected detected\n",
      "Moving objected detected\n",
      "Moving objected detected\n",
      "Moving objected detected\n",
      "Moving objected detected\n",
      "Moving objected detected\n",
      "Moving objected detected\n",
      "Moving objected detected\n",
      "Moving objected detected\n",
      "Moving objected detected\n",
      "Moving objected detected\n",
      "Moving objected detected\n",
      "Moving objected detected\n",
      "Moving objected detected\n",
      "Moving objected detected\n",
      "Moving objected detected\n",
      "Moving objected detected\n",
      "Moving objected detected\n",
      "Moving objected detected\n",
      "Moving objected detected\n",
      "Moving objected detected\n",
      "Moving objected detected\n",
      "Moving objected detected\n",
      "Moving objected detected\n",
      "Moving objected detected\n",
      "Moving objected detected\n",
      "Moving objected detected\n",
      "Moving objected detected\n",
      "Moving objected detected\n",
      "Moving objected detected\n",
      "Moving objected detected\n",
      "Moving objected detected\n",
      "Moving objected detected\n",
      "Moving objected detected\n",
      "Moving objected detected\n",
      "Moving objected detected\n",
      "Moving objected detected\n",
      "Moving objected detected\n",
      "Moving objected detected\n",
      "Moving objected detected\n",
      "Moving objected detected\n",
      "Moving objected detected\n",
      "Moving objected detected\n",
      "Moving objected detected\n",
      "Moving objected detected\n",
      "Moving objected detected\n",
      "Moving objected detected\n",
      "Moving objected detected\n",
      "Moving objected detected\n",
      "Moving objected detected\n",
      "Moving objected detected\n",
      "Moving objected detected\n",
      "Moving objected detected\n",
      "Moving objected detected\n",
      "Moving objected detected\n",
      "Moving objected detected\n",
      "Moving objected detected\n",
      "Moving objected detected\n",
      "Moving objected detected\n",
      "Moving objected detected\n",
      "Moving objected detected\n",
      "Moving objected detected\n",
      "Moving objected detected\n",
      "Moving objected detected\n"
     ]
    }
   ],
   "source": [
    "cam=cv2.VideoCapture(0)\n",
    "time.sleep(1)\n",
    "firstFrame=None\n",
    "area=500 #cinfiguring how much movement it should detect\n",
    "while True:\n",
    "            _,img=cam.read()\n",
    "            text=\"normal\"\n",
    "            resizeIMG=imutils.resize(img,width=200)\n",
    "            gray_image=cv2.cvtColor(img,cv2.COLOR_BGR2GRAY)\n",
    "            gaussianblur=cv2.GaussianBlur(gray_image,(21,21),0)#smooothen image\n",
    "            \n",
    "            if firstFrame is None:\n",
    "                firstFrame=gaussianblur\n",
    "                continue\n",
    "            imgdiff=cv2.absdiff(firstFrame,gray_image)#comparing backgroung image with grayscale image\n",
    "            __,thresholdImg=cv2.threshold(gray_image,220,255,cv2.THRESH_BINARY)# detect black and white so easy detection of movement\n",
    "            thresholdImg=cv2.dilate(thresholdImg,None,iterations=2)#remvoinf holes\n",
    "            #contours finding and connecting nearby by pixels\n",
    "            contour=cv2.findContours(thresholdImg.copy(),cv2.RETR_EXTERNAL,cv2.CHAIN_APPROX_SIMPLE)\n",
    "            contour=imutils.grab_contours(contour)\n",
    "            \n",
    "            #if area is minimum then skip the loop\n",
    "            for c in contour:\n",
    "                if cv2.contourArea(c)<area:\n",
    "                    continue\n",
    "                (x,y,w,h)=cv2.boundingRect(c)\n",
    "                cv2.rectangle(img,(x,y),(x+w,y+h),(0,255,0),2)\n",
    "                text=\"Moving objected detected\"\n",
    "                print(text)\n",
    "            \n",
    "            #writing a text on to a image\n",
    "            cv2.putText(img,text,(10,20)\n",
    "                       ,cv2.FONT_HERSHEY_SIMPLEX,0.5,(0,0,255),2)\n",
    "            \n",
    "            \n",
    "            cv2.imshow(\"camread.jpg\",img)\n",
    "            key=cv2.waitKey(1) & 0xFF\n",
    "            if key==ord(\"q\"):\n",
    "                break\n",
    "cam.release()\n",
    "cv2.destroyAllWindows()"
   ]
  },
  {
   "cell_type": "code",
   "execution_count": 8,
   "metadata": {},
   "outputs": [],
   "source": []
  },
  {
   "cell_type": "code",
   "execution_count": null,
   "metadata": {},
   "outputs": [],
   "source": []
  }
 ],
 "metadata": {
  "kernelspec": {
   "display_name": "Python 3",
   "language": "python",
   "name": "python3"
  },
  "language_info": {
   "codemirror_mode": {
    "name": "ipython",
    "version": 3
   },
   "file_extension": ".py",
   "mimetype": "text/x-python",
   "name": "python",
   "nbconvert_exporter": "python",
   "pygments_lexer": "ipython3",
   "version": "3.7.6"
  }
 },
 "nbformat": 4,
 "nbformat_minor": 4
}
