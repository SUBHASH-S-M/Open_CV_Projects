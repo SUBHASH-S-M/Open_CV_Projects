{
 "cells": [
  {
   "cell_type": "code",
   "execution_count": 1,
   "metadata": {},
   "outputs": [],
   "source": [
    "import cv2"
   ]
  },
  {
   "cell_type": "code",
   "execution_count": 2,
   "metadata": {},
   "outputs": [],
   "source": [
    "import cv2\n",
    "from PIL import Image\n",
    "import tempfile\n",
    "import numpy as np\n",
    "from textblob import TextBlob\n",
    "from wordcloud import WordCloud, STOPWORDS \n",
    "import matplotlib.pyplot as plt \n",
    "import pandas as pd \n",
    "import smtplib\n",
    "from gtts import gTTS \n",
    "import os"
   ]
  },
  {
   "cell_type": "code",
   "execution_count": 3,
   "metadata": {},
   "outputs": [],
   "source": [
    "import imutils #resize reshaping cropping fedd from camera"
   ]
  },
  {
   "cell_type": "code",
   "execution_count": 4,
   "metadata": {},
   "outputs": [],
   "source": [
    "import time\n",
    "import os #to handle directories"
   ]
  },
  {
   "cell_type": "code",
   "execution_count": 6,
   "metadata": {},
   "outputs": [],
   "source": [
    "#tunning color-finding hsv vaalue for each color it will return hsv value\n",
    "\n",
    "redLower=(157,93,203)          #(huelower,satrurationlower,valuelower)\n",
    "redUpper=(179,255,255)         #(hueupper,satrurationupper,valueupper)\n"
   ]
  },
  {
   "cell_type": "code",
   "execution_count": 10,
   "metadata": {},
   "outputs": [
    {
     "name": "stdout",
     "output_type": "stream",
     "text": [
      "Front\n",
      "Front\n",
      "Front\n",
      "Front\n",
      "Front\n"
     ]
    }
   ],
   "source": [
    "camera=cv2.VideoCapture(0)\n",
    "while True:\n",
    "    (grabbed,frame)=camera.read()\n",
    "    frame=imutils.resize(frame,width=600)\n",
    "    blurred=cv2.GaussianBlur(frame,(11,11),0)      #smooothen image\n",
    "    hsv=cv2.cvtColor(blurred,cv2.COLOR_BGR2HSV)\n",
    "    mask=cv2.inRange(blurred,redLower,redUpper)  #mask only certain color that is the the object ineed to follow\n",
    "    mask=cv2.erode(mask,None,iterations=2)\n",
    "    mask=cv2.dilate(mask,None,iterations=2)\n",
    "    cnts=cv2.findContours(mask.copy(),cv2.RETR_EXTERNAL,cv2.CHAIN_APPROX_SIMPLE)[-2]\n",
    "    center=None\n",
    "    if len(cnts)>0:\n",
    "        c=max(cnts,key=cv2.contourArea)\n",
    "        ((x,y),radius)=cv2.minEnclosingCircle(c)\n",
    "        M=cv2.moments(c)\n",
    "        center=(int(M[\"m10\"]/M[\"m00\"]),int(M[\"m01\"]/M[\"m00\"]))\n",
    "        if radius>10:\n",
    "            cv2.circle(frame,(int(x),int(y)),int(radius),(0,255,255),2)\n",
    "            cv2.circle(frame,center,5,(0,0,255),-1)\n",
    "            if radius>250:\n",
    "                print(\"stop\")\n",
    "            else:\n",
    "                if(center[0]<150):  #center[0] means x axis [1] means y axis\n",
    "                    print(\"Left\")\n",
    "                elif(center[0]>450):\n",
    "                    print(\"Right\")\n",
    "                elif(radius<250):\n",
    "                    print(\"Front\")\n",
    "                else:\n",
    "                    print(\"Stop\")\n",
    "    cv2.imshow(\"Frame\",frame)\n",
    "    key=cv2.waitKey(1) & 0xFF\n",
    "    if key == ord(\"q\"):\n",
    "        break\n",
    "camera.release()\n",
    "cv2.destroyAllWindows()\n",
    "    \n",
    "                \n",
    "        \n",
    "        "
   ]
  },
  {
   "cell_type": "code",
   "execution_count": null,
   "metadata": {},
   "outputs": [],
   "source": []
  }
 ],
 "metadata": {
  "kernelspec": {
   "display_name": "Python 3",
   "language": "python",
   "name": "python3"
  },
  "language_info": {
   "codemirror_mode": {
    "name": "ipython",
    "version": 3
   },
   "file_extension": ".py",
   "mimetype": "text/x-python",
   "name": "python",
   "nbconvert_exporter": "python",
   "pygments_lexer": "ipython3",
   "version": "3.7.6"
  }
 },
 "nbformat": 4,
 "nbformat_minor": 4
}
