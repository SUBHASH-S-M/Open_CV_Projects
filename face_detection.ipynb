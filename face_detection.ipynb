{
 "cells": [
  {
   "cell_type": "code",
   "execution_count": 1,
   "metadata": {},
   "outputs": [],
   "source": [
    "import cv2\n",
    "from PIL import Image\n",
    "import tempfile\n",
    "import numpy as np\n",
    "from textblob import TextBlob\n",
    "from wordcloud import WordCloud, STOPWORDS \n",
    "import matplotlib.pyplot as plt \n",
    "import pandas as pd \n",
    "import smtplib\n",
    "from gtts import gTTS \n",
    "import os"
   ]
  },
  {
   "cell_type": "code",
   "execution_count": 2,
   "metadata": {},
   "outputs": [],
   "source": [
    "import imutils #resize reshaping cropping fedd from camera"
   ]
  },
  {
   "cell_type": "code",
   "execution_count": 3,
   "metadata": {},
   "outputs": [],
   "source": [
    "algorithm=r\"C:\\Users\\91759\\Desktop\\project-set-2\\pantech\\haarcascade_frontalface_default.xml\""
   ]
  },
  {
   "cell_type": "code",
   "execution_count": 4,
   "metadata": {},
   "outputs": [],
   "source": [
    "import time\n",
    "import os #to handle directories"
   ]
  },
  {
   "cell_type": "code",
   "execution_count": null,
   "metadata": {},
   "outputs": [],
   "source": [
    "\n",
    "haarcscade=cv2.CascadeClassifier(algorithm)"
   ]
  },
  {
   "cell_type": "markdown",
   "metadata": {},
   "source": [
    "# press esc key to come out"
   ]
  },
  {
   "cell_type": "markdown",
   "metadata": {},
   "source": [
    "# Detecting the face"
   ]
  },
  {
   "cell_type": "code",
   "execution_count": 18,
   "metadata": {},
   "outputs": [],
   "source": [
    "cam=cv2.VideoCapture(0)\n",
    "while True:\n",
    "    \n",
    "    _,img=cam.read()\n",
    "    gray_image=cv2.cvtColor(img,cv2.COLOR_BGR2GRAY)\n",
    "    faces=haarcscade.detectMultiScale(gray_image,1.3,4) #detdct co-ordinates\n",
    "    for (x,y,w,h) in faces:\n",
    "        cv2.rectangle(img,(x,y),(x+w,y+h),(0,255,0),3)\n",
    "    cv2.imshow(\"Face_detection\",img)\n",
    "    key=cv2.waitKey(10)\n",
    "    \n",
    "    if key==27:\n",
    "         break\n",
    "cam.release()    \n",
    "cv2.destroyAllWindows()"
   ]
  },
  {
   "cell_type": "markdown",
   "metadata": {},
   "source": [
    "# Creating face dataset"
   ]
  },
  {
   "cell_type": "code",
   "execution_count": 24,
   "metadata": {},
   "outputs": [
    {
     "name": "stdout",
     "output_type": "stream",
     "text": [
      "face_captured\n"
     ]
    }
   ],
   "source": [
    "cam=cv2.VideoCapture(0)\n",
    "dataset=\"dataset\"\n",
    "name=\"karanh\"\n",
    "path=os.path.join(dataset,name)\n",
    "if not os.path.isdir(path):  #checking a directory exist or not\n",
    "    os.makedirs(path)\n",
    "(width,height)=(130,100)\n",
    "count=1\n",
    "while count<30:\n",
    "    \n",
    "    _,img=cam.read()\n",
    "    gray_image=cv2.cvtColor(img,cv2.COLOR_BGR2GRAY)\n",
    "    faces=haarcscade.detectMultiScale(gray_image,1.3,4) #detdct co-ordinates\n",
    "    for (x,y,w,h) in faces:\n",
    "        cv2.rectangle(img,(x,y),(x+w,y+h),(0,255,0),3)\n",
    "        onlyFace=gray_image[y:y+h,x:x+w]\n",
    "        resize_img=cv2.resize(onlyFace,(width,height))\n",
    "        cv2.imwrite(\"%s/%s.jpg\"%(path,count),resize_img)\n",
    "        count+=1\n",
    "    cv2.imshow(\"Face_detection\",img)\n",
    "    key=cv2.waitKey(10)\n",
    "    \n",
    "    if key==27:\n",
    "         break\n",
    "print(\"face_captured\")\n",
    "cam.release()    \n",
    "cv2.destroyAllWindows()"
   ]
  },
  {
   "cell_type": "code",
   "execution_count": null,
   "metadata": {},
   "outputs": [],
   "source": []
  }
 ],
 "metadata": {
  "kernelspec": {
   "display_name": "Python 3",
   "language": "python",
   "name": "python3"
  },
  "language_info": {
   "codemirror_mode": {
    "name": "ipython",
    "version": 3
   },
   "file_extension": ".py",
   "mimetype": "text/x-python",
   "name": "python",
   "nbconvert_exporter": "python",
   "pygments_lexer": "ipython3",
   "version": "3.7.6"
  }
 },
 "nbformat": 4,
 "nbformat_minor": 4
}
